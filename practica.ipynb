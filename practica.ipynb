{
  "nbformat": 4,
  "nbformat_minor": 0,
  "metadata": {
    "colab": {
      "provenance": [],
      "mount_file_id": "1g-AV5fS87YcvzASd17RxoHHKswm_2e6S",
      "authorship_tag": "ABX9TyN8m1JySQWb9RggaqQizbmz",
      "include_colab_link": true
    },
    "kernelspec": {
      "name": "python3",
      "display_name": "Python 3"
    },
    "language_info": {
      "name": "python"
    }
  },
  "cells": [
    {
      "cell_type": "markdown",
      "metadata": {
        "id": "view-in-github",
        "colab_type": "text"
      },
      "source": [
        "<a href=\"https://colab.research.google.com/github/jazminmontenegro/Visualizaci-n-de-datos-/blob/main/practica.ipynb\" target=\"_parent\"><img src=\"https://colab.research.google.com/assets/colab-badge.svg\" alt=\"Open In Colab\"/></a>"
      ]
    },
    {
      "cell_type": "code",
      "execution_count": 1,
      "metadata": {
        "colab": {
          "base_uri": "https://localhost:8080/"
        },
        "id": "QqWhu_rJgAOE",
        "outputId": "7621abad-f75c-4cb6-f40c-cf1d54252621"
      },
      "outputs": [
        {
          "output_type": "stream",
          "name": "stdout",
          "text": [
            "Drive already mounted at /content/drive; to attempt to forcibly remount, call drive.mount(\"/content/drive\", force_remount=True).\n"
          ]
        }
      ],
      "source": [
        "from google.colab import drive\n",
        "drive.mount('/content/drive')\n",
        "import pandas as pd\n"
      ]
    },
    {
      "cell_type": "code",
      "source": [
        "import matplotlib.pyplot as plt\n",
        "import pandas as pd\n",
        "import numpy as np"
      ],
      "metadata": {
        "id": "Fa8q5WE9hM4t"
      },
      "execution_count": 2,
      "outputs": []
    },
    {
      "cell_type": "code",
      "source": [
        "filename = '/content/drive/MyDrive/Colab/Bershire Hathaway Holdings.xlsx'\n",
        "df = pd.read_excel(filename)\n",
        "df.head()"
      ],
      "metadata": {
        "colab": {
          "base_uri": "https://localhost:8080/",
          "height": 421
        },
        "id": "IoxEHEAphRv1",
        "outputId": "cc3a5e86-c96d-4ec8-8fc8-f766896e64d8"
      },
      "execution_count": 3,
      "outputs": [
        {
          "output_type": "execute_result",
          "data": {
            "text/plain": [
              "        Date  Apple  HP  Activision Blizzard  Occidental Petroleum  \\\n",
              "0 1994-12-31    NaN NaN                  NaN                   NaN   \n",
              "1 1995-12-31    NaN NaN                  NaN                   NaN   \n",
              "2 1996-12-31    NaN NaN                  NaN                   NaN   \n",
              "3 1997-12-31    NaN NaN                  NaN                   NaN   \n",
              "4 1998-12-31    NaN NaN                  NaN                   NaN   \n",
              "\n",
              "   Bank of America    Coca-Cola        Others  American Express  Kraft Foods  \\\n",
              "0              NaN   5150000000  2.458200e+09         818900000          NaN   \n",
              "1              NaN   7425000000  2.655400e+09        2046300000          NaN   \n",
              "2              NaN  10499700000  3.862100e+09        2731800000          NaN   \n",
              "3              NaN  13305000000  6.526000e+09        4315000000          NaN   \n",
              "4              NaN  13368000000  8.629000e+09        5067000000          NaN   \n",
              "\n",
              "   ...  Goldman Sachs  Deere  AT&T  Delta Airlines  Southwest Airlines  \\\n",
              "0  ...            NaN    NaN   NaN             NaN                 NaN   \n",
              "1  ...            NaN    NaN   NaN             NaN                 NaN   \n",
              "2  ...            NaN    NaN   NaN             NaN                 NaN   \n",
              "3  ...            NaN    NaN   NaN             NaN                 NaN   \n",
              "4  ...            NaN    NaN   NaN             NaN                 NaN   \n",
              "\n",
              "   United Continental Holdings  Verisign  ITOCHU  Mitsubishi  Mitsui & Co.  \n",
              "0                          NaN       NaN     NaN         NaN           NaN  \n",
              "1                          NaN       NaN     NaN         NaN           NaN  \n",
              "2                          NaN       NaN     NaN         NaN           NaN  \n",
              "3                          NaN       NaN     NaN         NaN           NaN  \n",
              "4                          NaN       NaN     NaN         NaN           NaN  \n",
              "\n",
              "[5 rows x 61 columns]"
            ],
            "text/html": [
              "\n",
              "  <div id=\"df-e7ec78d2-18e6-427c-bfc4-f7ef701b5d79\">\n",
              "    <div class=\"colab-df-container\">\n",
              "      <div>\n",
              "<style scoped>\n",
              "    .dataframe tbody tr th:only-of-type {\n",
              "        vertical-align: middle;\n",
              "    }\n",
              "\n",
              "    .dataframe tbody tr th {\n",
              "        vertical-align: top;\n",
              "    }\n",
              "\n",
              "    .dataframe thead th {\n",
              "        text-align: right;\n",
              "    }\n",
              "</style>\n",
              "<table border=\"1\" class=\"dataframe\">\n",
              "  <thead>\n",
              "    <tr style=\"text-align: right;\">\n",
              "      <th></th>\n",
              "      <th>Date</th>\n",
              "      <th>Apple</th>\n",
              "      <th>HP</th>\n",
              "      <th>Activision Blizzard</th>\n",
              "      <th>Occidental Petroleum</th>\n",
              "      <th>Bank of America</th>\n",
              "      <th>Coca-Cola</th>\n",
              "      <th>Others</th>\n",
              "      <th>American Express</th>\n",
              "      <th>Kraft Foods</th>\n",
              "      <th>...</th>\n",
              "      <th>Goldman Sachs</th>\n",
              "      <th>Deere</th>\n",
              "      <th>AT&amp;T</th>\n",
              "      <th>Delta Airlines</th>\n",
              "      <th>Southwest Airlines</th>\n",
              "      <th>United Continental Holdings</th>\n",
              "      <th>Verisign</th>\n",
              "      <th>ITOCHU</th>\n",
              "      <th>Mitsubishi</th>\n",
              "      <th>Mitsui &amp; Co.</th>\n",
              "    </tr>\n",
              "  </thead>\n",
              "  <tbody>\n",
              "    <tr>\n",
              "      <th>0</th>\n",
              "      <td>1994-12-31</td>\n",
              "      <td>NaN</td>\n",
              "      <td>NaN</td>\n",
              "      <td>NaN</td>\n",
              "      <td>NaN</td>\n",
              "      <td>NaN</td>\n",
              "      <td>5150000000</td>\n",
              "      <td>2.458200e+09</td>\n",
              "      <td>818900000</td>\n",
              "      <td>NaN</td>\n",
              "      <td>...</td>\n",
              "      <td>NaN</td>\n",
              "      <td>NaN</td>\n",
              "      <td>NaN</td>\n",
              "      <td>NaN</td>\n",
              "      <td>NaN</td>\n",
              "      <td>NaN</td>\n",
              "      <td>NaN</td>\n",
              "      <td>NaN</td>\n",
              "      <td>NaN</td>\n",
              "      <td>NaN</td>\n",
              "    </tr>\n",
              "    <tr>\n",
              "      <th>1</th>\n",
              "      <td>1995-12-31</td>\n",
              "      <td>NaN</td>\n",
              "      <td>NaN</td>\n",
              "      <td>NaN</td>\n",
              "      <td>NaN</td>\n",
              "      <td>NaN</td>\n",
              "      <td>7425000000</td>\n",
              "      <td>2.655400e+09</td>\n",
              "      <td>2046300000</td>\n",
              "      <td>NaN</td>\n",
              "      <td>...</td>\n",
              "      <td>NaN</td>\n",
              "      <td>NaN</td>\n",
              "      <td>NaN</td>\n",
              "      <td>NaN</td>\n",
              "      <td>NaN</td>\n",
              "      <td>NaN</td>\n",
              "      <td>NaN</td>\n",
              "      <td>NaN</td>\n",
              "      <td>NaN</td>\n",
              "      <td>NaN</td>\n",
              "    </tr>\n",
              "    <tr>\n",
              "      <th>2</th>\n",
              "      <td>1996-12-31</td>\n",
              "      <td>NaN</td>\n",
              "      <td>NaN</td>\n",
              "      <td>NaN</td>\n",
              "      <td>NaN</td>\n",
              "      <td>NaN</td>\n",
              "      <td>10499700000</td>\n",
              "      <td>3.862100e+09</td>\n",
              "      <td>2731800000</td>\n",
              "      <td>NaN</td>\n",
              "      <td>...</td>\n",
              "      <td>NaN</td>\n",
              "      <td>NaN</td>\n",
              "      <td>NaN</td>\n",
              "      <td>NaN</td>\n",
              "      <td>NaN</td>\n",
              "      <td>NaN</td>\n",
              "      <td>NaN</td>\n",
              "      <td>NaN</td>\n",
              "      <td>NaN</td>\n",
              "      <td>NaN</td>\n",
              "    </tr>\n",
              "    <tr>\n",
              "      <th>3</th>\n",
              "      <td>1997-12-31</td>\n",
              "      <td>NaN</td>\n",
              "      <td>NaN</td>\n",
              "      <td>NaN</td>\n",
              "      <td>NaN</td>\n",
              "      <td>NaN</td>\n",
              "      <td>13305000000</td>\n",
              "      <td>6.526000e+09</td>\n",
              "      <td>4315000000</td>\n",
              "      <td>NaN</td>\n",
              "      <td>...</td>\n",
              "      <td>NaN</td>\n",
              "      <td>NaN</td>\n",
              "      <td>NaN</td>\n",
              "      <td>NaN</td>\n",
              "      <td>NaN</td>\n",
              "      <td>NaN</td>\n",
              "      <td>NaN</td>\n",
              "      <td>NaN</td>\n",
              "      <td>NaN</td>\n",
              "      <td>NaN</td>\n",
              "    </tr>\n",
              "    <tr>\n",
              "      <th>4</th>\n",
              "      <td>1998-12-31</td>\n",
              "      <td>NaN</td>\n",
              "      <td>NaN</td>\n",
              "      <td>NaN</td>\n",
              "      <td>NaN</td>\n",
              "      <td>NaN</td>\n",
              "      <td>13368000000</td>\n",
              "      <td>8.629000e+09</td>\n",
              "      <td>5067000000</td>\n",
              "      <td>NaN</td>\n",
              "      <td>...</td>\n",
              "      <td>NaN</td>\n",
              "      <td>NaN</td>\n",
              "      <td>NaN</td>\n",
              "      <td>NaN</td>\n",
              "      <td>NaN</td>\n",
              "      <td>NaN</td>\n",
              "      <td>NaN</td>\n",
              "      <td>NaN</td>\n",
              "      <td>NaN</td>\n",
              "      <td>NaN</td>\n",
              "    </tr>\n",
              "  </tbody>\n",
              "</table>\n",
              "<p>5 rows × 61 columns</p>\n",
              "</div>\n",
              "      <button class=\"colab-df-convert\" onclick=\"convertToInteractive('df-e7ec78d2-18e6-427c-bfc4-f7ef701b5d79')\"\n",
              "              title=\"Convert this dataframe to an interactive table.\"\n",
              "              style=\"display:none;\">\n",
              "        \n",
              "  <svg xmlns=\"http://www.w3.org/2000/svg\" height=\"24px\"viewBox=\"0 0 24 24\"\n",
              "       width=\"24px\">\n",
              "    <path d=\"M0 0h24v24H0V0z\" fill=\"none\"/>\n",
              "    <path d=\"M18.56 5.44l.94 2.06.94-2.06 2.06-.94-2.06-.94-.94-2.06-.94 2.06-2.06.94zm-11 1L8.5 8.5l.94-2.06 2.06-.94-2.06-.94L8.5 2.5l-.94 2.06-2.06.94zm10 10l.94 2.06.94-2.06 2.06-.94-2.06-.94-.94-2.06-.94 2.06-2.06.94z\"/><path d=\"M17.41 7.96l-1.37-1.37c-.4-.4-.92-.59-1.43-.59-.52 0-1.04.2-1.43.59L10.3 9.45l-7.72 7.72c-.78.78-.78 2.05 0 2.83L4 21.41c.39.39.9.59 1.41.59.51 0 1.02-.2 1.41-.59l7.78-7.78 2.81-2.81c.8-.78.8-2.07 0-2.86zM5.41 20L4 18.59l7.72-7.72 1.47 1.35L5.41 20z\"/>\n",
              "  </svg>\n",
              "      </button>\n",
              "      \n",
              "  <style>\n",
              "    .colab-df-container {\n",
              "      display:flex;\n",
              "      flex-wrap:wrap;\n",
              "      gap: 12px;\n",
              "    }\n",
              "\n",
              "    .colab-df-convert {\n",
              "      background-color: #E8F0FE;\n",
              "      border: none;\n",
              "      border-radius: 50%;\n",
              "      cursor: pointer;\n",
              "      display: none;\n",
              "      fill: #1967D2;\n",
              "      height: 32px;\n",
              "      padding: 0 0 0 0;\n",
              "      width: 32px;\n",
              "    }\n",
              "\n",
              "    .colab-df-convert:hover {\n",
              "      background-color: #E2EBFA;\n",
              "      box-shadow: 0px 1px 2px rgba(60, 64, 67, 0.3), 0px 1px 3px 1px rgba(60, 64, 67, 0.15);\n",
              "      fill: #174EA6;\n",
              "    }\n",
              "\n",
              "    [theme=dark] .colab-df-convert {\n",
              "      background-color: #3B4455;\n",
              "      fill: #D2E3FC;\n",
              "    }\n",
              "\n",
              "    [theme=dark] .colab-df-convert:hover {\n",
              "      background-color: #434B5C;\n",
              "      box-shadow: 0px 1px 3px 1px rgba(0, 0, 0, 0.15);\n",
              "      filter: drop-shadow(0px 1px 2px rgba(0, 0, 0, 0.3));\n",
              "      fill: #FFFFFF;\n",
              "    }\n",
              "  </style>\n",
              "\n",
              "      <script>\n",
              "        const buttonEl =\n",
              "          document.querySelector('#df-e7ec78d2-18e6-427c-bfc4-f7ef701b5d79 button.colab-df-convert');\n",
              "        buttonEl.style.display =\n",
              "          google.colab.kernel.accessAllowed ? 'block' : 'none';\n",
              "\n",
              "        async function convertToInteractive(key) {\n",
              "          const element = document.querySelector('#df-e7ec78d2-18e6-427c-bfc4-f7ef701b5d79');\n",
              "          const dataTable =\n",
              "            await google.colab.kernel.invokeFunction('convertToInteractive',\n",
              "                                                     [key], {});\n",
              "          if (!dataTable) return;\n",
              "\n",
              "          const docLinkHtml = 'Like what you see? Visit the ' +\n",
              "            '<a target=\"_blank\" href=https://colab.research.google.com/notebooks/data_table.ipynb>data table notebook</a>'\n",
              "            + ' to learn more about interactive tables.';\n",
              "          element.innerHTML = '';\n",
              "          dataTable['output_type'] = 'display_data';\n",
              "          await google.colab.output.renderOutput(dataTable, element);\n",
              "          const docLink = document.createElement('div');\n",
              "          docLink.innerHTML = docLinkHtml;\n",
              "          element.appendChild(docLink);\n",
              "        }\n",
              "      </script>\n",
              "    </div>\n",
              "  </div>\n",
              "  "
            ]
          },
          "metadata": {},
          "execution_count": 3
        }
      ]
    },
    {
      "cell_type": "markdown",
      "source": [
        "Elijan un conjunto de datos de la lista de conjuntos de datos. Pueden elegir un conjunto de datos reciente o uno de un año anterior (siempre y cuando les interese)."
      ],
      "metadata": {
        "id": "7qFMETWqFWKQ"
      }
    },
    {
      "cell_type": "code",
      "source": [
        "filtro = df.groupby(['Date'])['Coca-Cola'].unique()\n",
        "filtro"
      ],
      "metadata": {
        "colab": {
          "base_uri": "https://localhost:8080/"
        },
        "id": "Y6sndbtVmU-e",
        "outputId": "ab1ca1c4-cb40-43e8-d33a-3070a808839e"
      },
      "execution_count": 4,
      "outputs": [
        {
          "output_type": "execute_result",
          "data": {
            "text/plain": [
              "Date\n",
              "1994-12-31     [5150000000]\n",
              "1995-12-31     [7425000000]\n",
              "1996-12-31    [10499700000]\n",
              "1997-12-31    [13305000000]\n",
              "1998-12-31    [13368000000]\n",
              "1999-12-31    [11622000000]\n",
              "2000-12-31    [12159000000]\n",
              "2001-12-31     [9430000000]\n",
              "2002-12-31     [8768000000]\n",
              "2003-12-31    [10150000000]\n",
              "2004-12-31     [8328000000]\n",
              "2005-12-31     [8062000000]\n",
              "2006-12-31     [9650000000]\n",
              "2007-12-31    [12274000000]\n",
              "2008-12-31     [9054000000]\n",
              "2009-12-31    [11400000000]\n",
              "2010-12-31    [13154000000]\n",
              "2011-12-31    [13994000000]\n",
              "2012-12-31    [14500000000]\n",
              "2013-12-31    [16524000000]\n",
              "2014-12-31    [16888000000]\n",
              "2015-12-31    [17184000000]\n",
              "2016-12-31    [16584000000]\n",
              "2017-12-31    [18352000000]\n",
              "2018-12-31    [18940000000]\n",
              "2019-12-31    [22140000000]\n",
              "2020-12-31    [20044000000]\n",
              "2021-12-31    [23684000000]\n",
              "2022-06-30    [25164000000]\n",
              "Name: Coca-Cola, dtype: object"
            ]
          },
          "metadata": {},
          "execution_count": 4
        }
      ]
    },
    {
      "cell_type": "code",
      "source": [
        "filtro_2 = df.groupby(['Date'])['Apple'].unique()\n",
        "filtro_2"
      ],
      "metadata": {
        "colab": {
          "base_uri": "https://localhost:8080/"
        },
        "id": "UkyHFMsiQgy7",
        "outputId": "0f813b50-fb41-4fd1-e46c-80b083fcddda"
      },
      "execution_count": 5,
      "outputs": [
        {
          "output_type": "execute_result",
          "data": {
            "text/plain": [
              "Date\n",
              "1994-12-31               [nan]\n",
              "1995-12-31               [nan]\n",
              "1996-12-31               [nan]\n",
              "1997-12-31               [nan]\n",
              "1998-12-31               [nan]\n",
              "1999-12-31               [nan]\n",
              "2000-12-31               [nan]\n",
              "2001-12-31               [nan]\n",
              "2002-12-31               [nan]\n",
              "2003-12-31               [nan]\n",
              "2004-12-31               [nan]\n",
              "2005-12-31               [nan]\n",
              "2006-12-31               [nan]\n",
              "2007-12-31               [nan]\n",
              "2008-12-31               [nan]\n",
              "2009-12-31               [nan]\n",
              "2010-12-31               [nan]\n",
              "2011-12-31               [nan]\n",
              "2012-12-31               [nan]\n",
              "2013-12-31               [nan]\n",
              "2014-12-31               [nan]\n",
              "2015-12-31               [nan]\n",
              "2016-12-31      [7093000000.0]\n",
              "2017-12-31     [28213000000.0]\n",
              "2018-12-31     [40271000000.0]\n",
              "2019-12-31     [73667000000.0]\n",
              "2020-12-31    [117864800000.0]\n",
              "2021-12-31    [161155000000.0]\n",
              "2022-06-30    [122337000000.0]\n",
              "Name: Apple, dtype: object"
            ]
          },
          "metadata": {},
          "execution_count": 5
        }
      ]
    },
    {
      "cell_type": "code",
      "source": [
        "filtro_año = np.array(filtro.index)\n",
        "filtro_año"
      ],
      "metadata": {
        "colab": {
          "base_uri": "https://localhost:8080/"
        },
        "id": "3GWQnmfOBd2v",
        "outputId": "48870d9a-0b88-43ea-d3a6-853312afe2aa"
      },
      "execution_count": 6,
      "outputs": [
        {
          "output_type": "execute_result",
          "data": {
            "text/plain": [
              "array(['1994-12-31T00:00:00.000000000', '1995-12-31T00:00:00.000000000',\n",
              "       '1996-12-31T00:00:00.000000000', '1997-12-31T00:00:00.000000000',\n",
              "       '1998-12-31T00:00:00.000000000', '1999-12-31T00:00:00.000000000',\n",
              "       '2000-12-31T00:00:00.000000000', '2001-12-31T00:00:00.000000000',\n",
              "       '2002-12-31T00:00:00.000000000', '2003-12-31T00:00:00.000000000',\n",
              "       '2004-12-31T00:00:00.000000000', '2005-12-31T00:00:00.000000000',\n",
              "       '2006-12-31T00:00:00.000000000', '2007-12-31T00:00:00.000000000',\n",
              "       '2008-12-31T00:00:00.000000000', '2009-12-31T00:00:00.000000000',\n",
              "       '2010-12-31T00:00:00.000000000', '2011-12-31T00:00:00.000000000',\n",
              "       '2012-12-31T00:00:00.000000000', '2013-12-31T00:00:00.000000000',\n",
              "       '2014-12-31T00:00:00.000000000', '2015-12-31T00:00:00.000000000',\n",
              "       '2016-12-31T00:00:00.000000000', '2017-12-31T00:00:00.000000000',\n",
              "       '2018-12-31T00:00:00.000000000', '2019-12-31T00:00:00.000000000',\n",
              "       '2020-12-31T00:00:00.000000000', '2021-12-31T00:00:00.000000000',\n",
              "       '2022-06-30T00:00:00.000000000'], dtype='datetime64[ns]')"
            ]
          },
          "metadata": {},
          "execution_count": 6
        }
      ]
    },
    {
      "cell_type": "code",
      "source": [
        "import array\n",
        "filtro_inver = np.array(filtro)\n",
        "filtro_inver"
      ],
      "metadata": {
        "colab": {
          "base_uri": "https://localhost:8080/"
        },
        "id": "UekBDkaDB4cn",
        "outputId": "9c262810-6151-436a-d454-182ffc457232"
      },
      "execution_count": 7,
      "outputs": [
        {
          "output_type": "execute_result",
          "data": {
            "text/plain": [
              "array([array([5150000000]), array([7425000000]), array([10499700000]),\n",
              "       array([13305000000]), array([13368000000]), array([11622000000]),\n",
              "       array([12159000000]), array([9430000000]), array([8768000000]),\n",
              "       array([10150000000]), array([8328000000]), array([8062000000]),\n",
              "       array([9650000000]), array([12274000000]), array([9054000000]),\n",
              "       array([11400000000]), array([13154000000]), array([13994000000]),\n",
              "       array([14500000000]), array([16524000000]), array([16888000000]),\n",
              "       array([17184000000]), array([16584000000]), array([18352000000]),\n",
              "       array([18940000000]), array([22140000000]), array([20044000000]),\n",
              "       array([23684000000]), array([25164000000])], dtype=object)"
            ]
          },
          "metadata": {},
          "execution_count": 7
        }
      ]
    },
    {
      "cell_type": "markdown",
      "source": [
        "Usen Python para crear una visualización atractiva e informativa usando los datos que seleccionaron."
      ],
      "metadata": {
        "id": "POr1xoVxFudF"
      }
    },
    {
      "cell_type": "code",
      "source": [
        "filtro_apple = np.array(filtro_2)\n",
        "filtro_apple"
      ],
      "metadata": {
        "colab": {
          "base_uri": "https://localhost:8080/"
        },
        "id": "-g-p4iczP0wV",
        "outputId": "98a6c9d3-38f9-4497-8456-8bc4fedddb01"
      },
      "execution_count": 8,
      "outputs": [
        {
          "output_type": "execute_result",
          "data": {
            "text/plain": [
              "array([array([nan]), array([nan]), array([nan]), array([nan]),\n",
              "       array([nan]), array([nan]), array([nan]), array([nan]),\n",
              "       array([nan]), array([nan]), array([nan]), array([nan]),\n",
              "       array([nan]), array([nan]), array([nan]), array([nan]),\n",
              "       array([nan]), array([nan]), array([nan]), array([nan]),\n",
              "       array([nan]), array([nan]), array([7.093e+09]),\n",
              "       array([2.8213e+10]), array([4.0271e+10]), array([7.3667e+10]),\n",
              "       array([1.178648e+11]), array([1.61155e+11]), array([1.22337e+11])],\n",
              "      dtype=object)"
            ]
          },
          "metadata": {},
          "execution_count": 8
        }
      ]
    },
    {
      "cell_type": "code",
      "source": [
        "plt.subplot(1, 2, 1);\n",
        "plt.style.use('seaborn')\n",
        "plt.plot(filtro_año, filtro_inver,c = '00000', marker = '.', markersize = 5)\n",
        "plt.xlabel('años', fontsize = 10)\n",
        "plt.ylabel('Inversione Coca Cola', fontsize = 10)\n",
        "plt.title('Informes', fontsize = 10)\n",
        "plt.xticks(rotation=45)\n",
        "\n",
        "\n",
        "\n",
        "plt.subplot(1, 2, 2);\n",
        "plt.style.use('seaborn')\n",
        "plt.plot(filtro_año, filtro_apple,c = '00000', marker = '.', markersize = 5)\n",
        "plt.xlabel('años', fontsize = 10)\n",
        "plt.ylabel('Inversione APPLE', fontsize = 10)\n",
        "plt.title('Berkshire Hathaway,', fontsize = 10)\n",
        "plt.xticks(rotation=45)\n"
      ],
      "metadata": {
        "colab": {
          "base_uri": "https://localhost:8080/",
          "height": 445
        },
        "id": "zaZs_w90DZUW",
        "outputId": "1a2f6fc5-3bf0-4abd-e43d-38da8e938898"
      },
      "execution_count": 37,
      "outputs": [
        {
          "output_type": "execute_result",
          "data": {
            "text/plain": [
              "(array([735964., 736330., 736695., 737060., 737425., 737791., 738156.]),\n",
              " <a list of 7 Text major ticklabel objects>)"
            ]
          },
          "metadata": {},
          "execution_count": 37
        },
        {
          "output_type": "display_data",
          "data": {
            "text/plain": [
              "<Figure size 576x396 with 2 Axes>"
            ],
            "image/png": "[encoded data removed]"
          },
          "metadata": {}
        }
      ]
    },
    {
      "cell_type": "markdown",
      "source": [
        "En las imagenes de arriba son las inversiones de WARREN BUFFET, trabajamos con 3 columnas de datos las cuales son: Date, Apple y \n",
        "Coca-cola.\n",
        "\n",
        "\n",
        "para contextualizarnos un poco *Warren Buffett es el inversor más exitoso de todos los tiempos, al menos es el más conocido. Una de las razones de su éxito es que ha estado invirtiendo durante más de 60 años en el mercado de valores. Como todos sabemos, uno de los factores más importantes para generar rentabilidad es el tiempo en el mercado, del que ha tenido bastante. Sin embargo, no todos los que invierten por esta cantidad de tiempo tendrán los mismos rendimientos, algo debe haber hecho bien.\"**\n",
        "fuente:https://www.sjdataviz.com/postberkshire-hathaway-holdings-q2-2022\n",
        "\n"
      ],
      "metadata": {
        "id": "V0lS9EjC3BIH"
      }
    },
    {
      "cell_type": "markdown",
      "source": [
        "**conclusiones:**    **COCA COLA**\n",
        "\n",
        "\n",
        "*   En la primera grafica muestra las inversiones por el año lo que se puede concluir es que en el año 2020 y 2022 las inversiones subieron haciendo que sus ganacias fueran buenas.\n",
        "\n",
        "\n",
        "\n",
        "*   En los años 2004 a 2008 sus ganancias decalleron puede ser que Coca Cola no vendio sus productos en ese tiempo.\n",
        "\n",
        "\n",
        "\n",
        "*   la ultima conclusion es que las inversiones de Warren Buffett son fenomenales ya que desde los años 1996 a 2022 esta su pendiente positiva ya que con los años sus inversiones van creciendo. \n",
        "\n",
        "\n",
        "**conclusiones:**    **APPLE**\n",
        "\n",
        "\n",
        "   \n",
        "*   Se puede observar que desde año 2017 a 2022 su pendiente fue positiva lo que quiere decir sus inversiones crecieron pero en el año 2022 hay un declive lo que podemos concluir que se dejaron de vender los productos de Apple. \n",
        "\n",
        "\n",
        "\n",
        "\n",
        "\n"
      ],
      "metadata": {
        "id": "eBs3i-qr8zyZ"
      }
    }
  ]
}