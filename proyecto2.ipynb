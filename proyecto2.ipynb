{
  "nbformat": 4,
  "nbformat_minor": 0,
  "metadata": {
    "colab": {
      "provenance": [],
      "mount_file_id": "12Slsk05zjsinq-P_FeovwdR4O4w7xcXt",
      "authorship_tag": "ABX9TyM2pdIZfOFMQdGO4Y39Rf2f",
      "include_colab_link": true
    },
    "kernelspec": {
      "name": "python3",
      "display_name": "Python 3"
    },
    "language_info": {
      "name": "python"
    }
  },
  "cells": [
    {
      "cell_type": "markdown",
      "metadata": {
        "id": "view-in-github",
        "colab_type": "text"
      },
      "source": [
        "<a href=\"https://colab.research.google.com/github/jazminmontenegro/Visualizaci-n-de-datos-/blob/main/proyecto2.ipynb\" target=\"_parent\"><img src=\"https://colab.research.google.com/assets/colab-badge.svg\" alt=\"Open In Colab\"/></a>"
      ]
    },
    {
      "cell_type": "markdown",
      "source": [
        "#Primera opción: conjunto de datos 1\n",
        "\n",
        "1) Fuente de datos\n",
        "\n",
        "* RTA/ https://www.kaggle.com/competitions/spaceship-titanic/data\n",
        "\n",
        "\n",
        "\n",
        "2) Breve descripción de datos\n",
        "\n",
        "* RTA/ La nave espacial Titanic fue un transatlántico de pasajeros interestelar lanzado hace un mes. Con casi 13.000 pasajeros a bordo, la nave emprendió su viaje inaugural transportando emigrantes de nuestro sistema solar a tres exoplanetas recientemente habitables que orbitan estrellas cercanas.\n",
        "\n",
        "* Mientras rodeaba Alpha Centauri en ruta hacia su primer destino, el tórrido 55 Cancri E, la desprevenida nave espacial Titanic chocó con una anomalía del espacio-tiempo escondida dentro de una nube de polvo. Lamentablemente, tuvo un destino similar al de su homónimo de 1000 años antes. Aunque la nave permaneció intacta, ¡casi la mitad de los pasajeros fueron transportados a una dimensión alternativa!\n",
        "\n",
        "\n",
        "\n",
        "3) ¿Cuál es el objetivo?\n",
        "\n",
        "* RTA/ Predecir si un pasajero fue transportado a una dimensión alternativa durante la colisión de la nave espacial Titanic con la anomalía del espacio-tiempo. Para ayudarlo a hacer estas predicciones, se le proporciona un conjunto de registros personales recuperados del sistema informático dañado del barco.\n",
        "\n",
        "\n",
        "4) ¿Este es un problema de clasificación o regresión?\n",
        "\n",
        "* RTA/ Clasificacion.\n",
        "\n",
        "\n",
        "5) ¿Cuántas características hay?\n",
        "\n",
        "* RTA/ 14 columnas\n",
        "\n",
        "6) ¿Cuántas filas de datos hay?\n",
        "\n",
        "* RTA/ las filas de datos que hay es 8693\n",
        "\n",
        "7) ¿Qué retos, si es que hay alguno, prevén en la limpieza, exploración o modelización con este conjunto de datos?\n",
        "\n",
        "#Segunda opción: conjunto de datos 2\n",
        "\n",
        "1) Fuente de datos\n",
        "\n",
        "* RTA/ https://www.kaggle.com/datasets/whenamancodes/predict-diabities?select=diabetes.csv\n",
        "\n",
        "2) Breve descripción de datos\n",
        "\n",
        "* RTA/Este conjunto de datos proviene originalmente del Instituto Nacional de Diabetes y Enfermedades Digestivas y Renales\n",
        "\n",
        "3) ¿Cuál es el objetivo?\n",
        "\n",
        "* RTA/ El objetivo del conjunto de datos es predecir de manera diagnóstica si un paciente tiene diabetes,\n",
        "en función de ciertas medidas de diagnóstico incluidas en el conjunto de datos.\n",
        "\n",
        "4) ¿Este es un problema de clasificación o regresión?\n",
        "\n",
        "* RTA/ clasificacion\n",
        "\n",
        "5) ¿Cuántas características hay?\n",
        "\n",
        "* RTA/ 9 columnas \n",
        "\n",
        "6) ¿Cuántas filas de datos hay?\n",
        "\n",
        "* RTA/ el numero de filas es 768\n",
        "\n",
        "7) ¿Qué retos, si es que hay alguno, prevén en la limpieza, exploración o modelización con este conjunto de datos?\n",
        "\n",
        "* RTA/ los retos que se preveen es en cuestion a la modelizacion de datos.\n",
        "\n",
        "\n",
        "\n",
        " "
      ],
      "metadata": {
        "id": "ayI9EWdOeANM"
      }
    },
    {
      "cell_type": "markdown",
      "source": [
        "#FUENTE\n",
        "\n",
        "* https://www.kaggle.com/competitions/spaceship-titanic/data\n",
        "* https://www.kaggle.com/datasets/whenamancodes/predict-diabities?select=diabetes.csv"
      ],
      "metadata": {
        "id": "O9OajOJfbJ7P"
      }
    }
  ]
}